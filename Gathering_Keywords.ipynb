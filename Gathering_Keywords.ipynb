{
 "cells": [
  {
   "cell_type": "markdown",
   "metadata": {},
   "source": [
    "# Extracting Keywords\n",
    "\n",
    "The goal of this notebook is to extract annual keywords from the Council on Foreign Relations' Preventive Priorities Survey, between 2011 and 2019. This will be the starting point of our per-year analysis of Google Trends and news media outlets."
   ]
  },
  {
   "cell_type": "code",
   "execution_count": 1,
   "metadata": {},
   "outputs": [],
   "source": [
    "## Imports\n",
    "\n",
    "import pandas as pd\n",
    "\n",
    "import nltk\n",
    "from nltk.corpus import stopwords\n",
    "\n",
    "from sklearn.preprocessing import LabelEncoder\n",
    "from sklearn.feature_extraction.text import TfidfVectorizer\n",
    "\n",
    "import itertools \n",
    "import string\n",
    "import re"
   ]
  },
  {
   "cell_type": "code",
   "execution_count": 2,
   "metadata": {},
   "outputs": [],
   "source": [
    "# Creating pandas dataframe from CSV\n",
    "df = pd.read_csv(\"PPS_all.csv\")"
   ]
  },
  {
   "cell_type": "markdown",
   "metadata": {},
   "source": [
    "## Data Exploration"
   ]
  },
  {
   "cell_type": "code",
   "execution_count": 3,
   "metadata": {},
   "outputs": [
    {
     "data": {
      "text/html": [
       "<div>\n",
       "<style scoped>\n",
       "    .dataframe tbody tr th:only-of-type {\n",
       "        vertical-align: middle;\n",
       "    }\n",
       "\n",
       "    .dataframe tbody tr th {\n",
       "        vertical-align: top;\n",
       "    }\n",
       "\n",
       "    .dataframe thead th {\n",
       "        text-align: right;\n",
       "    }\n",
       "</style>\n",
       "<table border=\"1\" class=\"dataframe\">\n",
       "  <thead>\n",
       "    <tr style=\"text-align: right;\">\n",
       "      <th></th>\n",
       "      <th>Year</th>\n",
       "      <th>Tier</th>\n",
       "      <th>Issue/Country</th>\n",
       "      <th>Impact</th>\n",
       "      <th>Likelihood</th>\n",
       "      <th>Description</th>\n",
       "    </tr>\n",
       "  </thead>\n",
       "  <tbody>\n",
       "    <tr>\n",
       "      <th>0</th>\n",
       "      <td>2019</td>\n",
       "      <td>1</td>\n",
       "      <td>cyberattack</td>\n",
       "      <td>high</td>\n",
       "      <td>moderate</td>\n",
       "      <td>A highly disruptive cyberattack on US critical...</td>\n",
       "    </tr>\n",
       "    <tr>\n",
       "      <th>1</th>\n",
       "      <td>2019</td>\n",
       "      <td>1</td>\n",
       "      <td>North Korea</td>\n",
       "      <td>high</td>\n",
       "      <td>moderate</td>\n",
       "      <td>Renewed tensions on the Korean Peninsula follo...</td>\n",
       "    </tr>\n",
       "    <tr>\n",
       "      <th>2</th>\n",
       "      <td>2019</td>\n",
       "      <td>1</td>\n",
       "      <td>Iran</td>\n",
       "      <td>high</td>\n",
       "      <td>moderate</td>\n",
       "      <td>An armed confrontation between Iran and the Un...</td>\n",
       "    </tr>\n",
       "    <tr>\n",
       "      <th>3</th>\n",
       "      <td>2019</td>\n",
       "      <td>1</td>\n",
       "      <td>South China Sea</td>\n",
       "      <td>high</td>\n",
       "      <td>moderate</td>\n",
       "      <td>An armed confrontation over disputed maritime ...</td>\n",
       "    </tr>\n",
       "    <tr>\n",
       "      <th>4</th>\n",
       "      <td>2019</td>\n",
       "      <td>1</td>\n",
       "      <td>terrorist attack</td>\n",
       "      <td>high</td>\n",
       "      <td>moderate</td>\n",
       "      <td>A mass casualty terrorist attack on the US hom...</td>\n",
       "    </tr>\n",
       "  </tbody>\n",
       "</table>\n",
       "</div>"
      ],
      "text/plain": [
       "   Year  Tier     Issue/Country Impact Likelihood  \\\n",
       "0  2019     1       cyberattack   high   moderate   \n",
       "1  2019     1       North Korea   high   moderate   \n",
       "2  2019     1              Iran   high   moderate   \n",
       "3  2019     1   South China Sea   high   moderate   \n",
       "4  2019     1  terrorist attack   high   moderate   \n",
       "\n",
       "                                         Description  \n",
       "0  A highly disruptive cyberattack on US critical...  \n",
       "1  Renewed tensions on the Korean Peninsula follo...  \n",
       "2  An armed confrontation between Iran and the Un...  \n",
       "3  An armed confrontation over disputed maritime ...  \n",
       "4  A mass casualty terrorist attack on the US hom...  "
      ]
     },
     "execution_count": 3,
     "metadata": {},
     "output_type": "execute_result"
    }
   ],
   "source": [
    "df.head()"
   ]
  },
  {
   "cell_type": "code",
   "execution_count": 4,
   "metadata": {},
   "outputs": [
    {
     "data": {
      "text/plain": [
       "(267, 6)"
      ]
     },
     "execution_count": 4,
     "metadata": {},
     "output_type": "execute_result"
    }
   ],
   "source": [
    "df.shape"
   ]
  },
  {
   "cell_type": "code",
   "execution_count": 5,
   "metadata": {},
   "outputs": [
    {
     "name": "stdout",
     "output_type": "stream",
     "text": [
      "<class 'pandas.core.frame.DataFrame'>\n",
      "RangeIndex: 267 entries, 0 to 266\n",
      "Data columns (total 6 columns):\n",
      "Year             267 non-null int64\n",
      "Tier             267 non-null int64\n",
      "Issue/Country    267 non-null object\n",
      "Impact           210 non-null object\n",
      "Likelihood       210 non-null object\n",
      "Description      267 non-null object\n",
      "dtypes: int64(2), object(4)\n",
      "memory usage: 12.6+ KB\n"
     ]
    }
   ],
   "source": [
    "df.info()"
   ]
  },
  {
   "cell_type": "code",
   "execution_count": 6,
   "metadata": {},
   "outputs": [],
   "source": [
    "# Setting the weight of the combined Impact and Likelihood\n",
    "# List of category columns to adjust, for iteration\n",
    "category_cols = [\"Impact\", \"Likelihood\"]\n",
    "# Defining the numbers to assign for each importance\n",
    "# Including 0 since we'll need to fill in some null values\n",
    "importance = {\"high\": 3, \"moderate\": 2, \"low\": 1, 0:0}\n",
    "\n",
    "# Iterating over the two columns, filling nulls and replacing\n",
    "# the importance with a number, 0-3\n",
    "for col in category_cols:\n",
    "    df[col].fillna(0, inplace=True)\n",
    "    df[col] = [importance[item] for item in df[col]]\n",
    "\n",
    "# Creating a new weight column, combining Impact and Likelihood\n",
    "df[\"Weight\"] = df[\"Impact\"] + df[\"Likelihood\"]\n",
    "\n",
    "# Now, we don't actually want a weight of zero, since we might\n",
    "# be multiplying by it, so let's reset it to one\n",
    "df[\"Weight\"] = df[\"Weight\"].replace(to_replace=0, value=1)"
   ]
  },
  {
   "cell_type": "code",
   "execution_count": 7,
   "metadata": {},
   "outputs": [
    {
     "data": {
      "text/html": [
       "<div>\n",
       "<style scoped>\n",
       "    .dataframe tbody tr th:only-of-type {\n",
       "        vertical-align: middle;\n",
       "    }\n",
       "\n",
       "    .dataframe tbody tr th {\n",
       "        vertical-align: top;\n",
       "    }\n",
       "\n",
       "    .dataframe thead th {\n",
       "        text-align: right;\n",
       "    }\n",
       "</style>\n",
       "<table border=\"1\" class=\"dataframe\">\n",
       "  <thead>\n",
       "    <tr style=\"text-align: right;\">\n",
       "      <th></th>\n",
       "      <th>Year</th>\n",
       "      <th>Tier</th>\n",
       "      <th>Issue/Country</th>\n",
       "      <th>Impact</th>\n",
       "      <th>Likelihood</th>\n",
       "      <th>Description</th>\n",
       "      <th>Weight</th>\n",
       "    </tr>\n",
       "  </thead>\n",
       "  <tbody>\n",
       "    <tr>\n",
       "      <th>262</th>\n",
       "      <td>2011</td>\n",
       "      <td>3</td>\n",
       "      <td>Myanmar</td>\n",
       "      <td>0</td>\n",
       "      <td>0</td>\n",
       "      <td>Violent instability in Burma/Myanmar</td>\n",
       "      <td>1</td>\n",
       "    </tr>\n",
       "    <tr>\n",
       "      <th>263</th>\n",
       "      <td>2011</td>\n",
       "      <td>3</td>\n",
       "      <td>Kyrgyzstan</td>\n",
       "      <td>0</td>\n",
       "      <td>0</td>\n",
       "      <td>Political instability/resurgent ethnic violenc...</td>\n",
       "      <td>1</td>\n",
       "    </tr>\n",
       "    <tr>\n",
       "      <th>264</th>\n",
       "      <td>2011</td>\n",
       "      <td>3</td>\n",
       "      <td>Uganda</td>\n",
       "      <td>0</td>\n",
       "      <td>0</td>\n",
       "      <td>Electoral violence in Uganda</td>\n",
       "      <td>1</td>\n",
       "    </tr>\n",
       "    <tr>\n",
       "      <th>265</th>\n",
       "      <td>2011</td>\n",
       "      <td>3</td>\n",
       "      <td>Cote d'Ivoire</td>\n",
       "      <td>0</td>\n",
       "      <td>0</td>\n",
       "      <td>Political crisis devolves to armed violence in...</td>\n",
       "      <td>1</td>\n",
       "    </tr>\n",
       "    <tr>\n",
       "      <th>266</th>\n",
       "      <td>2011</td>\n",
       "      <td>3</td>\n",
       "      <td>Thailand</td>\n",
       "      <td>0</td>\n",
       "      <td>0</td>\n",
       "      <td>Violent instability in Thailand</td>\n",
       "      <td>1</td>\n",
       "    </tr>\n",
       "  </tbody>\n",
       "</table>\n",
       "</div>"
      ],
      "text/plain": [
       "     Year  Tier  Issue/Country  Impact  Likelihood  \\\n",
       "262  2011     3        Myanmar       0           0   \n",
       "263  2011     3     Kyrgyzstan       0           0   \n",
       "264  2011     3         Uganda       0           0   \n",
       "265  2011     3  Cote d'Ivoire       0           0   \n",
       "266  2011     3       Thailand       0           0   \n",
       "\n",
       "                                           Description  Weight  \n",
       "262               Violent instability in Burma/Myanmar       1  \n",
       "263  Political instability/resurgent ethnic violenc...       1  \n",
       "264                       Electoral violence in Uganda       1  \n",
       "265  Political crisis devolves to armed violence in...       1  \n",
       "266                    Violent instability in Thailand       1  "
      ]
     },
     "execution_count": 7,
     "metadata": {},
     "output_type": "execute_result"
    }
   ],
   "source": [
    "df.tail()"
   ]
  },
  {
   "cell_type": "markdown",
   "metadata": {},
   "source": [
    "## Data Cleaning\n",
    "A problem we have is that our algorithms don't have the same understanding of conflicts as we do. For example, we need to explain that 'Central African Republic' is one thing, and that when we break down the words in our descriptions into tokens, it shouldn't break apart 'Central' 'African' and 'Republic' and look at each word separately. Additionally, we need to make sure that \"China\", \"PRC\" and \"Sino\" are all considered the same thing. So we need to do some preprocessing for the words in each description, so we can do some reasonable analysis when we search for keywords later."
   ]
  },
  {
   "cell_type": "code",
   "execution_count": 11,
   "metadata": {},
   "outputs": [],
   "source": [
    "# Behold, a function to replace tricky concepts, like acronyms\n",
    "# Needs to be done before tokenization since some are multi-word\n",
    "# Because our data was small, just went through and did this\n",
    "# by hand as I decided what was important to bring together\n",
    "def replace_tricky_concepts(string):\n",
    "    # Defining a dictionary of trikcy concepts, where the keys\n",
    "    # are what we'll replace with, the values are what to replace\n",
    "    # Input: expects a string (so, not a whole column of text)\n",
    "    \n",
    "    tricky_concepts = {\n",
    "    \"SouthChinaSea\" : \"South China Sea\",\n",
    "    \"SEAsia\" : \"Southeast Asian\",\n",
    "    \"CentralAm\" : \"Central America\",\n",
    "    \"DRCongo\" : \"Democratic Republic of Congo\",\n",
    "    \"SouthSudan\" : \"South Sudan\",\n",
    "    \"CARep\" : \"Central African Republic\",\n",
    "    \"EastChinaSea\" : \"East China Sea\",\n",
    "    \"ISIS\" : [\"Islamic State\", \"Islamic State of Iraq and Syria\"],\n",
    "    \"ICBM\" : \"intercontinental ballistic missile\",\n",
    "    \"MiddleEast\" : \"Middle East\",\n",
    "    \"Qaeda\" : \"AQAP\",\n",
    "    \"China\" : [\"Sino\", \"PRC\"],\n",
    "    \"nuclear\" : \"denuclearization\",\n",
    "    \"Europe\" : \"EU\",\n",
    "    \"India\" : \"Indo\"\n",
    "    }\n",
    "    \n",
    "    # Creating a copy of the string input\n",
    "    output = string\n",
    "    # Iterating over the dictionary\n",
    "    for replacement, concept in tricky_concepts.items():\n",
    "        # Checking for lists, since some values are lists\n",
    "        if isinstance(concept,list):\n",
    "            for item in concept:\n",
    "                output=output.replace(item, replacement)\n",
    "        else:\n",
    "            output = output.replace(concept, replacement)\n",
    "    return output"
   ]
  },
  {
   "cell_type": "code",
   "execution_count": 12,
   "metadata": {},
   "outputs": [],
   "source": [
    "# Iterating over every row of our text column to pass in\n",
    "# the strings of text and replace our multi-word concepts\n",
    "df[\"Description\"] = df[\"Description\"].map(lambda x: replace_tricky_concepts(x))"
   ]
  },
  {
   "cell_type": "code",
   "execution_count": 13,
   "metadata": {},
   "outputs": [],
   "source": [
    "# Now we can work on some other pre-processing\n",
    "# Defining our basic English stopwords to remove, including punctuation\n",
    "\n",
    "stopwords_list = stopwords.words(\"english\")\n",
    "stopwords_list += list(string.punctuation)"
   ]
  },
  {
   "cell_type": "code",
   "execution_count": 14,
   "metadata": {},
   "outputs": [],
   "source": [
    "# Defining a function to tokenize our words, using RegEx, as well as\n",
    "# make all words lowercase\n",
    "def process_text(text):\n",
    "    # Input: expects a string (again, not a column of text)\n",
    "    # Defining our regex pattern to grab individual words\n",
    "    pattern = \"([a-zA-Z]+(?:'[a-z]+)?)\"\n",
    "    # Using NLTK's regex tokenize function\n",
    "    tokens_raw = nltk.regexp_tokenize(text, pattern)\n",
    "    # Setting all words to lowercase now\n",
    "    tokens_lower = [w.lower() for w in tokens_raw]\n",
    "    # Only returning tokens if they are not stopwords or digits\n",
    "    return [t for t in tokens_lower if t not in stopwords_list and not t.isdigit()]"
   ]
  },
  {
   "cell_type": "code",
   "execution_count": 94,
   "metadata": {},
   "outputs": [
    {
     "data": {
      "text/plain": [
       "['renewed',\n",
       " 'tensions',\n",
       " 'korean',\n",
       " 'peninsula',\n",
       " 'following',\n",
       " 'collapse',\n",
       " 'nuclear',\n",
       " 'negotiations']"
      ]
     },
     "execution_count": 94,
     "metadata": {},
     "output_type": "execute_result"
    }
   ],
   "source": [
    "# Testing our tokenization function\n",
    "process_text(df[\"Description\"][1])"
   ]
  },
  {
   "cell_type": "code",
   "execution_count": 17,
   "metadata": {},
   "outputs": [],
   "source": [
    "df[\"Keywords\"] = df[\"Description\"].map(lambda x: process_text(x))"
   ]
  },
  {
   "cell_type": "code",
   "execution_count": 18,
   "metadata": {},
   "outputs": [
    {
     "data": {
      "text/html": [
       "<div>\n",
       "<style scoped>\n",
       "    .dataframe tbody tr th:only-of-type {\n",
       "        vertical-align: middle;\n",
       "    }\n",
       "\n",
       "    .dataframe tbody tr th {\n",
       "        vertical-align: top;\n",
       "    }\n",
       "\n",
       "    .dataframe thead th {\n",
       "        text-align: right;\n",
       "    }\n",
       "</style>\n",
       "<table border=\"1\" class=\"dataframe\">\n",
       "  <thead>\n",
       "    <tr style=\"text-align: right;\">\n",
       "      <th></th>\n",
       "      <th>Year</th>\n",
       "      <th>Tier</th>\n",
       "      <th>Issue/Country</th>\n",
       "      <th>Impact</th>\n",
       "      <th>Likelihood</th>\n",
       "      <th>Description</th>\n",
       "      <th>Weight</th>\n",
       "      <th>Keywords</th>\n",
       "    </tr>\n",
       "  </thead>\n",
       "  <tbody>\n",
       "    <tr>\n",
       "      <th>0</th>\n",
       "      <td>2019</td>\n",
       "      <td>1</td>\n",
       "      <td>cyberattack</td>\n",
       "      <td>3</td>\n",
       "      <td>2</td>\n",
       "      <td>A highly disruptive cyberattack on US critical...</td>\n",
       "      <td>5</td>\n",
       "      <td>[highly, disruptive, cyberattack, us, critical...</td>\n",
       "    </tr>\n",
       "    <tr>\n",
       "      <th>1</th>\n",
       "      <td>2019</td>\n",
       "      <td>1</td>\n",
       "      <td>North Korea</td>\n",
       "      <td>3</td>\n",
       "      <td>2</td>\n",
       "      <td>Renewed tensions on the Korean Peninsula follo...</td>\n",
       "      <td>5</td>\n",
       "      <td>[renewed, tensions, korean, peninsula, followi...</td>\n",
       "    </tr>\n",
       "    <tr>\n",
       "      <th>2</th>\n",
       "      <td>2019</td>\n",
       "      <td>1</td>\n",
       "      <td>Iran</td>\n",
       "      <td>3</td>\n",
       "      <td>2</td>\n",
       "      <td>An armed confrontation between Iran and the Un...</td>\n",
       "      <td>5</td>\n",
       "      <td>[armed, confrontation, iran, united, states, o...</td>\n",
       "    </tr>\n",
       "    <tr>\n",
       "      <th>3</th>\n",
       "      <td>2019</td>\n",
       "      <td>1</td>\n",
       "      <td>South China Sea</td>\n",
       "      <td>3</td>\n",
       "      <td>2</td>\n",
       "      <td>An armed confrontation over disputed maritime ...</td>\n",
       "      <td>5</td>\n",
       "      <td>[armed, confrontation, disputed, maritime, are...</td>\n",
       "    </tr>\n",
       "    <tr>\n",
       "      <th>4</th>\n",
       "      <td>2019</td>\n",
       "      <td>1</td>\n",
       "      <td>terrorist attack</td>\n",
       "      <td>3</td>\n",
       "      <td>2</td>\n",
       "      <td>A mass casualty terrorist attack on the US hom...</td>\n",
       "      <td>5</td>\n",
       "      <td>[mass, casualty, terrorist, attack, us, homela...</td>\n",
       "    </tr>\n",
       "  </tbody>\n",
       "</table>\n",
       "</div>"
      ],
      "text/plain": [
       "   Year  Tier     Issue/Country  Impact  Likelihood  \\\n",
       "0  2019     1       cyberattack       3           2   \n",
       "1  2019     1       North Korea       3           2   \n",
       "2  2019     1              Iran       3           2   \n",
       "3  2019     1   South China Sea       3           2   \n",
       "4  2019     1  terrorist attack       3           2   \n",
       "\n",
       "                                         Description  Weight  \\\n",
       "0  A highly disruptive cyberattack on US critical...       5   \n",
       "1  Renewed tensions on the Korean Peninsula follo...       5   \n",
       "2  An armed confrontation between Iran and the Un...       5   \n",
       "3  An armed confrontation over disputed maritime ...       5   \n",
       "4  A mass casualty terrorist attack on the US hom...       5   \n",
       "\n",
       "                                            Keywords  \n",
       "0  [highly, disruptive, cyberattack, us, critical...  \n",
       "1  [renewed, tensions, korean, peninsula, followi...  \n",
       "2  [armed, confrontation, iran, united, states, o...  \n",
       "3  [armed, confrontation, disputed, maritime, are...  \n",
       "4  [mass, casualty, terrorist, attack, us, homela...  "
      ]
     },
     "execution_count": 18,
     "metadata": {},
     "output_type": "execute_result"
    }
   ],
   "source": [
    "df.head()"
   ]
  },
  {
   "cell_type": "code",
   "execution_count": 96,
   "metadata": {},
   "outputs": [],
   "source": [
    "vocabulary = set()\n",
    "for obs in df.index:\n",
    "    words = process_text(df[\"Description\"][obs])\n",
    "    vocabulary.update(words)\n",
    "vocabulary = list(vocabulary)"
   ]
  },
  {
   "cell_type": "markdown",
   "metadata": {},
   "source": [
    "## Arriving at Keywords"
   ]
  },
  {
   "cell_type": "code",
   "execution_count": 65,
   "metadata": {},
   "outputs": [],
   "source": [
    "# Let's go through and see what keywords it picks out of each\n",
    "\n",
    "tfidf = TfidfVectorizer(tokenizer=process_text)"
   ]
  },
  {
   "cell_type": "code",
   "execution_count": 70,
   "metadata": {},
   "outputs": [
    {
     "data": {
      "text/plain": [
       "<267x530 sparse matrix of type '<class 'numpy.float64'>'\n",
       "\twith 2720 stored elements in Compressed Sparse Row format>"
      ]
     },
     "execution_count": 70,
     "metadata": {},
     "output_type": "execute_result"
    }
   ],
   "source": [
    "tfidf.fit_transform(df[\"Description\"])"
   ]
  },
  {
   "cell_type": "code",
   "execution_count": null,
   "metadata": {},
   "outputs": [],
   "source": [
    "tfidf.get_feature_names()"
   ]
  },
  {
   "cell_type": "code",
   "execution_count": 137,
   "metadata": {},
   "outputs": [],
   "source": [
    "from nltk.stem.snowball import SnowballStemmer  # Assuming we're working with English\n",
    "\n",
    "stemmer = SnowballStemmer(\"english\")"
   ]
  },
  {
   "cell_type": "code",
   "execution_count": null,
   "metadata": {},
   "outputs": [],
   "source": []
  },
  {
   "cell_type": "code",
   "execution_count": null,
   "metadata": {},
   "outputs": [],
   "source": []
  },
  {
   "cell_type": "code",
   "execution_count": 132,
   "metadata": {},
   "outputs": [],
   "source": [
    "words = []\n",
    "for obs in df.index:\n",
    "    tokens = process_text(df[\"Description\"][obs])\n",
    "    for t in tokens:\n",
    "        words.append(t)"
   ]
  },
  {
   "cell_type": "code",
   "execution_count": 133,
   "metadata": {},
   "outputs": [],
   "source": [
    "stems = []\n",
    "for word in words:\n",
    "    word_stem = stemmer.stem(word)\n",
    "    stems.append(word_stem)"
   ]
  },
  {
   "cell_type": "code",
   "execution_count": 134,
   "metadata": {},
   "outputs": [],
   "source": [
    "from nltk import FreqDist\n",
    "\n",
    "fdist = FreqDist(stems)"
   ]
  },
  {
   "cell_type": "code",
   "execution_count": 135,
   "metadata": {},
   "outputs": [
    {
     "data": {
      "text/plain": [
       "FreqDist({'violenc': 99, 'polit': 91, 'instabl': 91, 'militari': 57, 'civil': 42, 'attack': 40, 'increas': 36, 'confront': 34, 'crisi': 32, 'result': 32, ...})"
      ]
     },
     "execution_count": 135,
     "metadata": {},
     "output_type": "execute_result"
    }
   ],
   "source": [
    "fdist"
   ]
  },
  {
   "cell_type": "code",
   "execution_count": 17,
   "metadata": {},
   "outputs": [],
   "source": [
    "# # Our CFR PPS data ranges from 2011 to 2019\n",
    "# years = list(range(2011, 2020))\n",
    "\n",
    "# # Creating a dictionary to hold the text per year\n",
    "# annual_dict = {}\n",
    "\n",
    "# for year in years:\n",
    "#     # Creating a dataframe for each year\n",
    "#     year_df = df.loc[df[\"Year\"] == year]\n",
    "#     # Chaining together the column of descriptions\n",
    "#     year_list = list(itertools.chain(year_df[\"Description\"]))\n",
    "#     # Joining that chain into one long string\n",
    "#     year_str_all = ' '.join(year_list)\n",
    "#     # Setting the key as the year, value as the long descriptions\n",
    "#     annual_dict[year] = year_str_all"
   ]
  },
  {
   "cell_type": "code",
   "execution_count": 18,
   "metadata": {},
   "outputs": [],
   "source": [
    "# for year in annual_dict.keys():\n",
    "#     annual_dict[year] = process_text(annual_dict[year])"
   ]
  },
  {
   "cell_type": "code",
   "execution_count": 19,
   "metadata": {},
   "outputs": [],
   "source": [
    "# annual_features = {}\n",
    "\n",
    "# for year in annual_dict.keys():\n",
    "#     tfidf = TfidfVectorizer(max_features=10, lowercase=False)\n",
    "#     year_input = list(annual_dict[year])\n",
    "#     tfidf.fit_transform(year_input)\n",
    "#     year_features = tfidf.get_feature_names()\n",
    "#     annual_features[year] = year_features"
   ]
  },
  {
   "cell_type": "code",
   "execution_count": 85,
   "metadata": {},
   "outputs": [
    {
     "data": {
      "text/plain": [
       "['A highly disruptive cyberattack on US critical infrastructure and networks',\n",
       " 'Renewed tensions on the Korean Peninsula following a collapse of the nuclear negotiations',\n",
       " 'An armed confrontation between Iran and the United States or one of its allies over Iran’s involvement in regional conflicts and support of militant proxy groups',\n",
       " 'An armed confrontation over disputed maritime areas in the SouthChinaSea between China and one or more SEAsia claimants (Brunei, Malaysia, Philippines, Taiwan, and Vietnam)',\n",
       " 'A mass casualty terrorist attack on the US homeland or a treaty ally by either (a) foreign or homegrown terrorist(s)',\n",
       " 'Continued violent reimposition of government control in Syria leading to further civilian casualties and heightened tensions among external parties to the conflict',\n",
       " 'Deepening economic crisis and political instability in Venezuela leading to violent civil unrest and increased refugee outflows',\n",
       " 'Worsening of the humanitarian crisis in Yemen, exacerbated by ongoing foreign intervention in the civil war',\n",
       " 'Increased violence and instability in Afghanistan resulting from the Taliban insurgency and potential government collapse',\n",
       " 'A deliberate or unintended military confrontation between Russia and NATO members, stemming from assertive Russian behavior in eastern Europe',\n",
       " 'A crisis between the United States and China over Taiwan, as a result of China’s intensifying political and economic pressure campaign ahead of Taiwan’s elections in 2020',\n",
       " 'Intensified clashes between Israel and Iranian-backed forces, including Hezbollah, in Lebanon and/or Syria',\n",
       " 'Intensification of organized crime–related violence in Mexico',\n",
       " 'Increasing political instability in Iraq exacerbated by underlying sectarian tensions',\n",
       " 'Increased fighting in eastern Ukraine between Russian-backed militias and Ukrainian security forces',\n",
       " 'Heightened tensions between Israelis and Palestinians leading to attacks against civilians, widespread protests, and armed confrontations',\n",
       " 'Political violence and instability in Nicaragua worsening the migration crisis in CentralAm',\n",
       " 'Escalation of violence between Turkey and various Kurdish armed groups within Turkey and in neighboring countries',\n",
       " 'A severe India-Pakistan military confrontation triggered by a major terrorist attack or heightened unrest in Indian-administered Kashmir',\n",
       " 'A new military confrontation between China and India over disputed border territories',\n",
       " 'Escalating violence between rival governing groups in Libya and a breakdown of the internationally brokered peace process',\n",
       " 'Violence and political instability around national and state elections in Nigeria, exacerbated by conflicts in the Delta region and Middle Belt, and with Boko Haram in the northeast',\n",
       " 'Increasing al-Shabab attacks in Somalia and neighboring countries',\n",
       " 'Growing political instability and violence in the DRCongo, resulting in continued forced displacement and destabilizing effects on neighboring countries',\n",
       " 'Continued violence against Muslim Rohingyas in Myanmar by government security forces and increased tensions surrounding the repatriation of refugees from Bangladesh',\n",
       " 'Renewed fighting in SouthSudan and a breakdown of the peace agreement, leading to further displacement of refugees to neighboring countries',\n",
       " 'An escalation of sectarian violence in the CARep, resulting in continued forced displacement and destabilizing effects on neighboring countries',\n",
       " 'Escalating violence and instability in Zimbabwe following the contested 2018 presidential elections and continuing economic crisis',\n",
       " 'Worsening civil conflict in Cameroon between security forces and fighters from the Anglophone separatist movement',\n",
       " 'Escalating tensions and/or extremist violence in the Balkans—Albania, Bosnia and Herzegovina, Croatia, Kosovo, Macedonia, Montenegro, and Serbia—resulting in political instability and armed clashes',\n",
       " 'Military conflict involving the United States, North Korea, and its neighboring countries',\n",
       " 'A deliberate or unintended military confrontation between Russia and NATO members, stemming from assertive Russian behavior in Eastern Europe',\n",
       " 'A highly disruptive cyberattack on US critical infrastructure and networks',\n",
       " 'An armed confrontation between Iran and the United States or one of its allies over Iran’s involvement in regional conflicts and support of militant proxy groups',\n",
       " 'An armed confrontation over disputed maritime areas in the SouthChinaSea between China and one or more SEAsia claimants—Brunei, Malaysia, the Philippines, Taiwan, or Vietnam',\n",
       " 'A mass casualty terrorist attack on the US homeland or a treaty ally by either foreign or homegrown terrorist(s)',\n",
       " 'Violent reconsolidation of government control in Syria, with heightened tensions among external parties to the conflict',\n",
       " 'Increased violence and instability in Afghanistan resulting from the Taliban insurgency and potential government collapse',\n",
       " 'An armed confrontation in the EastChinaSea between China and Japan stemming from tensions over the sovereignty of the Senkaku/Diaoyu Islands',\n",
       " 'Escalation of organized crime– related violence in Mexico',\n",
       " 'Intensified violence in eastern Ukraine between Russian-backed militias and Ukrainian security forces',\n",
       " 'Escalation of conflict between Iraqi security forces and armed Kurdish groups in Iraq',\n",
       " 'Intensified clashes between Israel and Hezbollah either along the Israel-Lebanon border or in Syria',\n",
       " 'Increased violence and political instability in Pakistan caused by multiple militant groups and tension between the government and opposition parties',\n",
       " 'A severe India-Pakistan military confrontation triggered by a major terrorist attack or heightened unrest in Indian-administered Kashmir',\n",
       " 'Heightened tensions between Israelis and Palestinians leading to attacks against civilians, widespread protests, and armed confrontations',\n",
       " 'Intensification of violence between Turkey and various Kurdish armed groups within Turkey and in neighboring countries',\n",
       " 'Deepening economic crisis and political instability in Venezuela leading to violent civil unrest and increased refugee outflows',\n",
       " 'Worsening humanitarian crisis in Yemen, exacerbated by ongoing foreign intervention in the civil war',\n",
       " 'Continued al-Shabab attacks in Somalia and neighboring countries',\n",
       " 'Intensified sectarian violence between government security forces and Muslim Rohingya in Myanmar and increased refugee influx into Bangladesh',\n",
       " 'Intensified violence and political instability in Nigeria resulting from conflicts in the Delta region and the Middle Belt and with Boko Haram in the northeast',\n",
       " 'Escalated violence in Libya following a breakdown of the peace process',\n",
       " 'Escalating tensions or extremist violence in the Balkans—Albania, Bosnia and Herzegovina, Croatia, Kosovo, Macedonia, Montenegro, and Serbia—resulting in political instability and armed clashes',\n",
       " 'Intensified violence and political instability in the Sahel, including in Mali and Niger, related to increasing militant activity',\n",
       " 'Escalation of the civil war in SouthSudan stemming from political and ethnic divisions, with destabilizing spillover effects into neighboring countries',\n",
       " 'Growing political instability and violence in the DRCongo, resulting in continued forced displacement and destabilizing effects on neighboring countries',\n",
       " 'Growing political instability and violence in Kenya following the 2017 elections',\n",
       " 'Widespread unrest and violence in Zimbabwe related to the succession of former President Robert Mugabe',\n",
       " 'Escalation of sectarian violence and forced displacement in the CARep between the Seleka rebels and anti-balaka militias resulting in continued forced displacement and destabilizing effects on neighboring countries',\n",
       " 'A severe crisis in North Korea caused by nuclear or ICBM (ICBM) weapons testing, a military provocation, or internal political instability',\n",
       " 'A deliberate or unintended military confrontation between Russia and NATO members, stemming from assertive Russian behavior in Eastern Europe',\n",
       " 'A highly disruptive cyberattack on US critical infrastructure',\n",
       " 'A mass casualty terrorist attack on the US homeland or a treaty ally by either a foreign or homegrown terrorist(s)',\n",
       " 'Increased violence and instability in Afghanistan resulting from a continued strengthening of the Taliban insurgency and potential government collapse',\n",
       " 'Intensification of violence between Turkey and various Kurdish armed groups within Turkey and in neighboring countries, including Iran, Iraq, and Syria',\n",
       " 'Intensification of the civil war in Syria resulting from increased external support for warring parties, including military intervention by outside powers',\n",
       " 'An armed confrontation in the EastChinaSea between China and Japan, stemming from tensions over the sovereignty of the Senkaku/Diaoyu Islands, which draws in the United States',\n",
       " 'An armed confrontation over disputed maritime areas in the SouthChinaSea between China and one or more SEAsia claimants—Brunei, Taiwan, Malaysia, the Philippines, or Vietnam— which draws in the United States',\n",
       " 'Political instability in Europe countries exacerbated by the influx of refugees and migrants, with heightened civil unrest, isolated terrorist attacks, or violence against refugees and migrants',\n",
       " 'A severe India-Pakistan military confrontation triggered by a major terrorist attack or heightened unrest in Indian-administered Kashmir',\n",
       " 'Further fracturing of Iraq caused by political differences and violent clashes among Sunni, Shia, and Kurdish communities, worsened by the presence of the ISIS',\n",
       " 'Heightened tensions between Israelis and Palestinians leading to attacks against civilians, widespread protests, and armed confrontations',\n",
       " 'Continued political fracturing in Libya, worsened by the presence of the ISIS, with heightened violence and further external military intervention',\n",
       " 'Increased internal violence and political instability in Pakistan caused by multiple militant groups and tension between the government and opposition parties',\n",
       " 'Growing political instability in the Philippines stemming from opposition to the government’s domestic and foreign policy agenda',\n",
       " 'Increased political instability in Turkey stemming from growing authoritarianism after the July 2016 coup attempt',\n",
       " 'Increased violence in eastern Ukraine between Russian-backed militias and Ukrainian security forces, with potential overt Russian military intervention',\n",
       " 'Intensified civil war in Yemen stemming from the Saudi-led military intervention against Houthi rebels that further fractures the country',\n",
       " 'Deepening economic crisis and political instability in Venezuela leading to violent civil unrest',\n",
       " 'Intensification of political crisis in Burundi and escalation of violence among state forces, opposition groups, and civilians',\n",
       " 'Growing political instability in the DRCongo due to delayed elections, resulting in widespread violence',\n",
       " 'Growing civil unrest and ethnic violence in Ethiopia in response to government repression',\n",
       " 'Intensified violence and political instability in Nigeria related to conflicts with Boko Haram in the northeast and other conflicts in the Delta region',\n",
       " 'Continued al-Shabab attacks in Somalia and neighboring countries',\n",
       " 'Intensification of the civil war in SouthSudan stemming from political and ethnic divisions, with destabilizing spillover effects into neighboring countries',\n",
       " 'Political instability in Thailand resulting from the uncertainty of royal succession—following the death of King Bhumibol Adulyadej in October 2016—and continued military rule',\n",
       " 'Widespread unrest and violence in Zimbabwe related to the succession of President Robert Mugabe',\n",
       " 'Political instability in Colombia following the collapse of the peace agreement between the government and the FARC, causing a resumption of the insurgency',\n",
       " 'An outbreak of military conflict between Armenia and Azerbaijan over the disputed Nagorno-Karabakh region',\n",
       " 'intensification of the civil war in Syria resulting from increased external support for warring parties, including military intervention by outside powers',\n",
       " 'a mass casualty attack on the US homeland or a treaty ally',\n",
       " 'a highly disruptive cyberattack on US critical infrastructure',\n",
       " 'a severe crisis with or in North Korea caused by nuclear or ballistic missile weapons testing, a military provocation, or internal political instability',\n",
       " 'political instability in Europe countries stemming from the influx of refugees and migrants, with heightened civil unrest, isolated terrorist attacks, or violence against refugees and migrants',\n",
       " 'continued political fracturing of Libya, with heightened violence and further military intervention by Arab states',\n",
       " 'heightened tensions between Israel and the Palestinian territories leading to attacks against civilians, widespread protests, and armed confrontations',\n",
       " 'intensified political violence in Turkey involving various Kurdish groups and Turkish security forces, exacerbated by spillover from the Syrian civil war',\n",
       " 'increased political instability in Egypt, including terrorist attacks, particularly in the Sinai Peninsula',\n",
       " 'increased violence and instability in Afghanistan resulting from the strengthening of the Taliban insurgency',\n",
       " 'continued fracturing of Iraq due to territorial gains by the selfproclaimed ISIS and ongoing Sunni-Shia sectarian violence',\n",
       " 'escalation of organized crime–related violence in Mexico, with spillover effects into the United States',\n",
       " 'increased internal violence and political instability in Pakistan caused by multiple militant groups, primarily Tehrik-e-Taliban Pakistan',\n",
       " 'increased sectarian violence and political instability in Lebanon due to spillover from the Syrian civil war',\n",
       " 'intensification of fighting in eastern Ukraine between Russian-backed militias and Ukrainian security forces, with potential overt Russian military intervention',\n",
       " 'growing political instability and civil violence in Jordan, triggered by spillover from the Syrian civil war',\n",
       " 'intensified civil war in Yemen as a result of fighting among national loyalist forces, Houthi rebels, and intervening outside forces',\n",
       " 'potential confrontation between Iran and the United States or one of its partners or allies over Iran’s involvement in regional conflicts and support of militant proxy groups',\n",
       " 'an armed confrontation in the EastChinaSea between China and Japan, stemming from tensions over the sovereignty of the Diaoyu/Senkaku islands, which draws in the United States',\n",
       " 'an armed confrontation over disputed maritime areas in the SouthChinaSea between China and one or more SEAsia claimants, which draws in the United States',\n",
       " 'increased tensions between Russia and NATO member states leading to an unintentional or deliberate military confrontation',\n",
       " 'a severe India-Pakistan military confrontation triggered by a major terrorist attack or heightened violence in Kashmir',\n",
       " 'political instability in Saudi Arabia caused by growing economic stress, tensions within the royal family, and the cost of war in Yemen',\n",
       " 'intensified sectarian violence and political instability in Nigeria related to Boko Haram, with potential spillover into nearby countries',\n",
       " 'escalation of Islamist militancy and violence in Russia, including civil unrest in the North Caucasus region',\n",
       " 'protracted civil war in SouthSudan stemming from political and ethnic divisions',\n",
       " 'escalation of sectarian violence in the CARep between the ex-Seleka rebels and anti-balaka militias',\n",
       " 'an intensification of sectarian violence between Buddhists and Muslim Rohingyas in Myanmar, potentially exacerbated by postelection political instability',\n",
       " 'deepening economic crisis and political instability in Venezuela, leading to heightened civil unrest',\n",
       " 'growing political instability in the DRCongo ahead of scheduled elections, resulting in widespread violence and destabilizing effects on neighboring countries',\n",
       " 'intensification of the conflict in Iraq due to territorial gains by the ISIS of Iraq and Syria (ISIS) and operations by Iraqi security forces, as well as ongoing Sunni-Shia sectarian violence',\n",
       " 'a mass casualty attack on the US homeland or a treaty ally',\n",
       " 'a highly disruptive cyberattack on US critical infrastructure',\n",
       " 'a severe North Korean crisis caused by a military provocation, internal political instability, or threatening nuclear weapons/ ICBM-related activities',\n",
       " 'renewed threat of Israeli military strikes against Iran as a result of a breakdown in nuclear negotiations and/or clear evidence of intent to develop a nuclear weapons capability',\n",
       " 'an armed confrontation in the SouthChinaSea between China and one or more SEAsia claimants to disputed maritime areas',\n",
       " 'an intensification of the Syrian civil war resulting from increased external support for warring parties, including military intervention by outside powers',\n",
       " 'increased violence and instability in Afghanistan resulting from the withdrawal of coalition combat forces and strengthening of the Taliban insurgency',\n",
       " 'an intensification of fighting in eastern Ukraine between Russian-backed militia forces and Ukrainian security forces, with potential overt Russian military intervention',\n",
       " 'heightened tensions within Israel and the Palestinian territories leading to widespread protests and armed confrontations',\n",
       " 'continued political fracture and growing militancy in Libya resulting in state failure, minimal governance, and further military intervention by Arab states',\n",
       " 'increased instability and terrorist attacks in Egypt, particularly in the Sinai Peninsula, resulting in a military crackdown',\n",
       " 'deepened political instability and civil violence in Jordan triggered by spillover from the Syrian civil war',\n",
       " 'increased sectarian violence and political instability in Lebanon due to spillover from the Syrian civil war',\n",
       " 'increased internal violence and political instability in Pakistan stemming from Tehrik-e-Taliban Pakistan militancy',\n",
       " 'intensified political violence in Turkey between various Kurdish groups and Turkish security forces exacerbated by spillover from the Syrian civil war',\n",
       " 'strengthening of al-Qaeda in the Arabian Peninsula resulting from continued political instability in Yemen and the expansion of Houthi rebel territorial control',\n",
       " 'an armed confrontation in the EastChinaSea between China and Japan stemming from tensions over the Diaoyu/ Senkaku islands',\n",
       " 'escalation of organized crime–related violence in Mexico that spills over into the United States',\n",
       " 'an intensification of violence and political instability in Nigeria related to Boko Haram, as well as surrounding the general elections',\n",
       " 'growth of political unrest in China, particularly among the Uighur population',\n",
       " 'escalation of sectarian violence in the CARep between the Seleka rebels and “anti-balaka” militias, possibly resulting in mass atrocities',\n",
       " 'intensification of sectarian violence between Buddhists and Muslim Rohingyas in Myanmar',\n",
       " 'protracted civil war in SouthSudan stemming from political and ethnic divisions',\n",
       " 'surge in popular unrest and political instability in Sudan',\n",
       " 'growing political instability and unrest in Thailand, potentially exacerbated by a royal succession crisis',\n",
       " 'deepening political crisis in Venezuela leading to civil violence and potential regional instability',\n",
       " 'political instability stemming from the impacts of Ebola in West Africa, with potential spillover into neighboring countries',\n",
       " 'a severe India-Pakistani military confrontation triggered by a major terrorist attack or heightened violence in Kashmir',\n",
       " 'an outbreak of military conflict between Armenia and Azerbaijan over Nagorno-Karabakh',\n",
       " 'intensification of the Syrian civil war including possible limited military intervention',\n",
       " 'a highly disruptive cyberattack on US critical infrastructure',\n",
       " 'renewed threat of military strikes against Iran as a result of a breakdown in nuclear negotiations and/or clear evidence of intent to develop a nuclear weapons capability',\n",
       " 'a mass casualty terrorist attack on the US homeland or a treaty ally',\n",
       " 'a severe North Korean crisis caused by a military provocation, internal political instability, or threatening nuclear weapons/ ICBM-related activities',\n",
       " 'growing violence and instability in Afghanistan resulting from the drawdown of coalition forces and/or contested national elections',\n",
       " 'increasing internal violence and political instability in Pakistan',\n",
       " 'strengthening of al-Qaeda in the Arabian Peninsula resulting from continued political instability in Yemen and/or backlash from US counterterrorism operations',\n",
       " 'civil war in Iraq due to rising Sunni-Shia sectarian violence',\n",
       " 'growing political instability and civil violence in Jordan triggered by spillover from the Syrian civil war',\n",
       " 'further deterioration of the political situation in Egypt resulting in significantly increased violence, especially in the Sinai Peninsula',\n",
       " 'increased sectarian violence and political instability in Lebanon due to spillover from the Syrian civil war',\n",
       " 'continuing conflict in Somalia and intensification of al-Shabab’s terrorist attacks on neighboring countries',\n",
       " 'continuing political instability and growing militancy in Libya',\n",
       " 'escalation of drug-related violence in Mexico',\n",
       " 'a severe India-Pakistani military confrontation triggered by a major terrorist attack or heightened violence in Kashmir',\n",
       " 'an armed confrontation in the EastChinaSea between China and Japan stemming from tensions over the Senkaku/Diaoyu islands',\n",
       " 'an armed confrontation in the SouthChinaSea between China and one or more SEAsia claimants to disputed mari - time areas',\n",
       " 'increasing sectarian violence and heightened political instability in Nigeria',\n",
       " 'escalating violence and risk of mass atrocities in the CARep as a result of the ongoing insurgency',\n",
       " 'a China-Indian clash resulting from escalation of a territorial dispute and/or a military incident',\n",
       " 'destabilization of Mali by militant groups with spillover effects on neighboring areas',\n",
       " 'growing popular unrest and political instability in Sudan',\n",
       " 'military conflict between Sudan and SouthSudan triggered by border and/or resource disputes',\n",
       " 'resumption of conflict in the Kurdish-dominated regions of Turkey and the MiddleEast',\n",
       " 'intensification of violence in eastern DRCongo with regional spillover',\n",
       " 'increased sectarian violence between Buddhists and Muslim Rohingyas in Myanmar’s Rakhine State',\n",
       " 'protracted internal violence in Bangladesh surrounding the general elections',\n",
       " 'deepening political crisis in Venezuela leading to civil violence and potential regional instability',\n",
       " 'an outbreak of military conflict between Armenia and Azerbaijan over Nagorno-Karabakh',\n",
       " 'intensification of Syria’s civil war, including possible limited external intervention',\n",
       " 'an Iranian nuclear crisis such as a surprise advance in Iran’s nuclear weapons/delivery capability followed by an Israeli response',\n",
       " 'a major military incident with China involving US or allied forces such as a China-Japanese clash over the Senkaku/ Diaoyu Islands',\n",
       " 'a mass casualty attack on the US homeland or on a treaty ally',\n",
       " 'nonstate actors acquire biological or chemical weapons from stockpiles in Syria',\n",
       " 'severe internal instability in Pakistan, triggered by a civil-military crisis or terror attacks',\n",
       " 'a highly disruptive cyberattack on US critical infrastructure',\n",
       " 'a major erosion of security in Afghanistan resulting from coalition drawdown',\n",
       " 'a severe India-Pakistan crisis that carries risk of military escalation, triggered by a major terror attack',\n",
       " 'a severe North Korean crisis caused by another military provocation, internal political instability, or threatening nuclear weapons/ICBM-related activities',\n",
       " 'a significant increase in drug trafficking violence in Mexico that spills over into the United States',\n",
       " 'a SouthChinaSea armed confrontation over competing territorial claims',\n",
       " 'continuing political instability and emergence of a terrorist safe haven in Libya',\n",
       " 'further deterioration of security and/or backlash against counterterrorism operations expands al-Qaeda in the Arabian Peninsula safe haven in Yemen',\n",
       " 'growing instability in Bahrain that spurs violent government reprisals or further Saudi and/or Iranian military action',\n",
       " 'increasing sectarian violence and heightened political instability in Nigeria',\n",
       " 'renewed sectarian violence in Lebanon due to spillover from the conflict in Syria',\n",
       " 'rising sectarian violence and growing secessionist pressures in Iraq',\n",
       " 'widespread popular protests in Jordan triggered by dissatisfaction with the pace of political reform',\n",
       " 'unrest in Egypt over pace of reforms and deteriorating economic conditions',\n",
       " 'a US-Pakistan military confrontation, triggered by a terror attack or US counterterror operations',\n",
       " 'a deepening of violence in the eastern Democratic Republic of the Congo that involves military intervention from its neighbors',\n",
       " 'growing popular unrest and political instability in Sudan',\n",
       " 'military conflict between Sudan and SouthSudan',\n",
       " 'renewed ethnic violence in Kenya surrounding March 2013 presidential election',\n",
       " 'widespread unrest in Zimbabwe surrounding the electoral process and/or the death of Robert Mugabe',\n",
       " 'political instability in Saudi Arabia that endangers global oil supplies',\n",
       " 'renewed unrest in the Kurdish-dominated regions of Turkey and the MiddleEast',\n",
       " 'an outbreak of military conflict between Armenia and Azerbaijan, possibly over Nagorno-Karabakh',\n",
       " 'failure of a multilateral intervention to push out Islamist groups from Mali’s north',\n",
       " 'a mass casualty attack on the US homeland or on a treaty ally',\n",
       " 'a severe North Korean crisis (e.g., armed provocations, internal political instability, advances in nuclear weapons/ICBM capability)',\n",
       " 'a major military incident with China involving US or allied forces',\n",
       " 'an Iranian nuclear crisis (e.g., surprise advances in nuclear weapons/delivery capability, Israeli response)',\n",
       " 'a highly disruptive cyberattack on US critical infrastructure (e.g., telecommunications, electrical power, gas and oil, water supply, banking and finance, transportation, and emergency services)',\n",
       " 'a significant increase in drug trafficking violence in Mexico that spills over into the United States',\n",
       " 'severe internal instability in Pakistan, triggered by a civil-military crisis or terror attacks',\n",
       " 'political instability in Saudi Arabia that endangers global oil supplies',\n",
       " 'a US-Pakistan military confrontation, triggered by a terror attack or US counterterror operations',\n",
       " 'intensification of the European sovereign debt crisis that leads to the collapse of the euro, triggering a double-dip US recession and further limiting budgetary resources',\n",
       " 'political instability in Egypt with wider regional implications',\n",
       " 'a severe India-Pakistani crisis that carries risk of military escalation, triggered by major terror attack',\n",
       " 'rising tension/naval incident in the eastern Mediterranean Sea between Turkey and Israel',\n",
       " 'a major erosion of security and governance gains in Afghanistan with intensification of insurgency or terror attacks',\n",
       " 'an outbreak of widespread civil violence in Syria, with potential outside intervention',\n",
       " 'an outbreak of widespread civil violence in Yemen',\n",
       " 'rising sectarian tensions and renewed violence in Iraq',\n",
       " 'a SouthChinaSea armed confrontation over competing territorial claims',\n",
       " 'a mass casualty attack on Israel',\n",
       " 'growing instability in Bahrain that spurs further Saudi and/or Iranian military action',\n",
       " 'military conflict between Sudan and SouthSudan',\n",
       " 'heightened political instability and sectarian violence in Nigeria',\n",
       " 'increased conflict in Somalia, with continued outside intervention',\n",
       " 'political instability in Venezuela surrounding the October 2012 elections or post-Chavez succession',\n",
       " 'political instability in Kenya surrounding the August 2012 elections',\n",
       " 'renewed military conflict between Russia and Georgia',\n",
       " 'an intensification of political instability and violence in Libya',\n",
       " 'violent election-related instability in the Democratic Republic of the Congo',\n",
       " 'political instability/resurgent ethnic violence in Kyrgyzstan',\n",
       " 'an outbreak of military conflict between Armenia and Azerbaijan, possibly over Nagorno Karabakh',\n",
       " 'Mass casualty terrorist attack on the US homeland',\n",
       " 'Major military/political reversal in Afghanistan',\n",
       " 'Iranian nuclear crisis (surprise advance in nuclear weapons capability/possible Israeli strike)',\n",
       " 'North Korean crisis (surprise advance in nuclear weapons/ICBM capability, continuing deadly provocations, succession-related political instability)',\n",
       " 'Serious escalation of drug-related violence in Mexico (political instability/border spillover effects)',\n",
       " 'Deadly US-China military incident',\n",
       " 'India-Pakistani military escalation (triggered by major terrorist attack, or unrest in Kashmir)',\n",
       " 'Severe internal instability in Pakistan (triggered by civil-military crisis, or major terror attack)',\n",
       " 'Highly disruptive cyber attack on US infrastructure or financial institutions',\n",
       " 'Serious secession-related violence in Sudan/resumption of North-South conflict',\n",
       " 'New Lebanon crisis (Hizbullah coup/civil war, or Israeli strikes on Hizbullah)',\n",
       " 'Political paralysis/major escalation of violence in Iraq',\n",
       " 'Renewed conflict between Russia and Georgia',\n",
       " 'Acute political instability in Saudi Arabia (succession/terrorist attack related)',\n",
       " 'Acute political instability in Egypt (succession/terrorist attack related)',\n",
       " 'State failure/collapse in Yemen (enabling Qaeda consolidation/operational effectiveness)',\n",
       " 'Acute political instability/violence in Haiti',\n",
       " 'Al-Shabaab consolidates control of Somalia/threatens Somaliland-Puntland',\n",
       " 'Violent instability in Zimbabwe/succession crisis',\n",
       " 'Violent instability in the Democratic Republic of the Congo/mass killing in eastern Congo',\n",
       " 'Major electoral-related violence in Nigeria/acute political instability',\n",
       " 'Escalation in militarized gang violence in CentralAm (El Salvador and Guatemala)',\n",
       " 'Violent instability in Burma/Myanmar',\n",
       " 'Political instability/resurgent ethnic violence in Kyrgyzstan',\n",
       " 'Electoral violence in Uganda',\n",
       " 'Political crisis devolves to armed violence in Cote d’Ivoire',\n",
       " 'Violent instability in Thailand']"
      ]
     },
     "execution_count": 85,
     "metadata": {},
     "output_type": "execute_result"
    }
   ],
   "source": [
    "desc_list = list(itertools.chain(df[\"Description\"]))\n",
    "desc_list"
   ]
  },
  {
   "cell_type": "code",
   "execution_count": 21,
   "metadata": {},
   "outputs": [],
   "source": [
    "# all_tokens = process_text(str_all)\n",
    "\n",
    "from sklearn.feature_extraction.text import CountVectorizer\n",
    "\n",
    "cv = CountVectorizer(lowercase=True, stop_words=stopwords_list)\n",
    "cv_all = cv.fit_transform(desc_list)\n",
    "# all_features = cv.get_feature_names()\n",
    "\n",
    "# all_features"
   ]
  },
  {
   "cell_type": "code",
   "execution_count": 22,
   "metadata": {},
   "outputs": [
    {
     "data": {
      "text/plain": [
       "(267, 540)"
      ]
     },
     "execution_count": 22,
     "metadata": {},
     "output_type": "execute_result"
    }
   ],
   "source": [
    "cv_all.shape"
   ]
  },
  {
   "cell_type": "code",
   "execution_count": null,
   "metadata": {},
   "outputs": [],
   "source": []
  }
 ],
 "metadata": {
  "kernelspec": {
   "display_name": "Python 3",
   "language": "python",
   "name": "python3"
  },
  "language_info": {
   "codemirror_mode": {
    "name": "ipython",
    "version": 3
   },
   "file_extension": ".py",
   "mimetype": "text/x-python",
   "name": "python",
   "nbconvert_exporter": "python",
   "pygments_lexer": "ipython3",
   "version": "3.7.3"
  }
 },
 "nbformat": 4,
 "nbformat_minor": 2
}
