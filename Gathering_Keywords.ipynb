{
 "cells": [
  {
   "cell_type": "code",
   "execution_count": 1,
   "metadata": {},
   "outputs": [],
   "source": [
    "## Imports\n",
    "\n",
    "import pandas as pd\n",
    "\n",
    "import nltk\n",
    "\n",
    "from sklearn.preprocessing import LabelEncoder"
   ]
  },
  {
   "cell_type": "code",
   "execution_count": 2,
   "metadata": {},
   "outputs": [],
   "source": [
    "# Creating pandas dataframe from CSV\n",
    "df = pd.read_csv(\"PPS_all.csv\")"
   ]
  },
  {
   "cell_type": "markdown",
   "metadata": {},
   "source": [
    "## Data Exploration"
   ]
  },
  {
   "cell_type": "code",
   "execution_count": 3,
   "metadata": {},
   "outputs": [
    {
     "data": {
      "text/html": [
       "<div>\n",
       "<style scoped>\n",
       "    .dataframe tbody tr th:only-of-type {\n",
       "        vertical-align: middle;\n",
       "    }\n",
       "\n",
       "    .dataframe tbody tr th {\n",
       "        vertical-align: top;\n",
       "    }\n",
       "\n",
       "    .dataframe thead th {\n",
       "        text-align: right;\n",
       "    }\n",
       "</style>\n",
       "<table border=\"1\" class=\"dataframe\">\n",
       "  <thead>\n",
       "    <tr style=\"text-align: right;\">\n",
       "      <th></th>\n",
       "      <th>Year</th>\n",
       "      <th>Tier</th>\n",
       "      <th>Issue/Country</th>\n",
       "      <th>Impact</th>\n",
       "      <th>Likelihood</th>\n",
       "      <th>Description</th>\n",
       "    </tr>\n",
       "  </thead>\n",
       "  <tbody>\n",
       "    <tr>\n",
       "      <th>0</th>\n",
       "      <td>2019</td>\n",
       "      <td>1</td>\n",
       "      <td>cyberattack</td>\n",
       "      <td>high</td>\n",
       "      <td>moderate</td>\n",
       "      <td>A highly disruptive cyberattack on U.S. critic...</td>\n",
       "    </tr>\n",
       "    <tr>\n",
       "      <th>1</th>\n",
       "      <td>2019</td>\n",
       "      <td>1</td>\n",
       "      <td>North Korea</td>\n",
       "      <td>high</td>\n",
       "      <td>moderate</td>\n",
       "      <td>Renewed tensions on the Korean Peninsula follo...</td>\n",
       "    </tr>\n",
       "    <tr>\n",
       "      <th>2</th>\n",
       "      <td>2019</td>\n",
       "      <td>1</td>\n",
       "      <td>Iran</td>\n",
       "      <td>high</td>\n",
       "      <td>moderate</td>\n",
       "      <td>An armed confrontation between Iran and the Un...</td>\n",
       "    </tr>\n",
       "    <tr>\n",
       "      <th>3</th>\n",
       "      <td>2019</td>\n",
       "      <td>1</td>\n",
       "      <td>South China Sea</td>\n",
       "      <td>high</td>\n",
       "      <td>moderate</td>\n",
       "      <td>An armed confrontation over disputed maritime ...</td>\n",
       "    </tr>\n",
       "    <tr>\n",
       "      <th>4</th>\n",
       "      <td>2019</td>\n",
       "      <td>1</td>\n",
       "      <td>terrorist attack</td>\n",
       "      <td>high</td>\n",
       "      <td>moderate</td>\n",
       "      <td>A mass casualty terrorist attack on the U.S. h...</td>\n",
       "    </tr>\n",
       "  </tbody>\n",
       "</table>\n",
       "</div>"
      ],
      "text/plain": [
       "   Year  Tier     Issue/Country Impact Likelihood  \\\n",
       "0  2019     1       cyberattack   high   moderate   \n",
       "1  2019     1       North Korea   high   moderate   \n",
       "2  2019     1              Iran   high   moderate   \n",
       "3  2019     1   South China Sea   high   moderate   \n",
       "4  2019     1  terrorist attack   high   moderate   \n",
       "\n",
       "                                         Description  \n",
       "0  A highly disruptive cyberattack on U.S. critic...  \n",
       "1  Renewed tensions on the Korean Peninsula follo...  \n",
       "2  An armed confrontation between Iran and the Un...  \n",
       "3  An armed confrontation over disputed maritime ...  \n",
       "4  A mass casualty terrorist attack on the U.S. h...  "
      ]
     },
     "execution_count": 3,
     "metadata": {},
     "output_type": "execute_result"
    }
   ],
   "source": [
    "df.head()"
   ]
  },
  {
   "cell_type": "code",
   "execution_count": 4,
   "metadata": {},
   "outputs": [
    {
     "data": {
      "text/plain": [
       "(267, 6)"
      ]
     },
     "execution_count": 4,
     "metadata": {},
     "output_type": "execute_result"
    }
   ],
   "source": [
    "df.shape"
   ]
  },
  {
   "cell_type": "code",
   "execution_count": 5,
   "metadata": {},
   "outputs": [
    {
     "name": "stdout",
     "output_type": "stream",
     "text": [
      "<class 'pandas.core.frame.DataFrame'>\n",
      "RangeIndex: 267 entries, 0 to 266\n",
      "Data columns (total 6 columns):\n",
      "Year             267 non-null int64\n",
      "Tier             267 non-null int64\n",
      "Issue/Country    267 non-null object\n",
      "Impact           210 non-null object\n",
      "Likelihood       210 non-null object\n",
      "Description      267 non-null object\n",
      "dtypes: int64(2), object(4)\n",
      "memory usage: 12.6+ KB\n"
     ]
    }
   ],
   "source": [
    "df.info()"
   ]
  },
  {
   "cell_type": "code",
   "execution_count": 6,
   "metadata": {},
   "outputs": [],
   "source": [
    "# Changing the Impact and Likelihood columns to be categories instead of strings\n",
    "category_columns = [\"Impact\", \"Likelihood\"]\n",
    "\n",
    "for cat_col in category_columns:\n",
    "    df[cat_col] = df[cat_col].astype(\"category\")\n",
    "    # Changing the scale to be 1-3, instead of 0-2\n",
    "    df[cat_col] = df[cat_col].cat.codes + 1"
   ]
  },
  {
   "cell_type": "code",
   "execution_count": 43,
   "metadata": {},
   "outputs": [
    {
     "data": {
      "text/html": [
       "<div>\n",
       "<style scoped>\n",
       "    .dataframe tbody tr th:only-of-type {\n",
       "        vertical-align: middle;\n",
       "    }\n",
       "\n",
       "    .dataframe tbody tr th {\n",
       "        vertical-align: top;\n",
       "    }\n",
       "\n",
       "    .dataframe thead th {\n",
       "        text-align: right;\n",
       "    }\n",
       "</style>\n",
       "<table border=\"1\" class=\"dataframe\">\n",
       "  <thead>\n",
       "    <tr style=\"text-align: right;\">\n",
       "      <th></th>\n",
       "      <th>Year</th>\n",
       "      <th>Tier</th>\n",
       "      <th>Issue/Country</th>\n",
       "      <th>Impact</th>\n",
       "      <th>Likelihood</th>\n",
       "      <th>Description</th>\n",
       "    </tr>\n",
       "  </thead>\n",
       "  <tbody>\n",
       "    <tr>\n",
       "      <th>0</th>\n",
       "      <td>2019</td>\n",
       "      <td>1</td>\n",
       "      <td>cyberattack</td>\n",
       "      <td>1</td>\n",
       "      <td>3</td>\n",
       "      <td>A highly disruptive cyberattack on U.S. critic...</td>\n",
       "    </tr>\n",
       "    <tr>\n",
       "      <th>1</th>\n",
       "      <td>2019</td>\n",
       "      <td>1</td>\n",
       "      <td>North Korea</td>\n",
       "      <td>1</td>\n",
       "      <td>3</td>\n",
       "      <td>Renewed tensions on the Korean Peninsula follo...</td>\n",
       "    </tr>\n",
       "    <tr>\n",
       "      <th>2</th>\n",
       "      <td>2019</td>\n",
       "      <td>1</td>\n",
       "      <td>Iran</td>\n",
       "      <td>1</td>\n",
       "      <td>3</td>\n",
       "      <td>An armed confrontation between Iran and the Un...</td>\n",
       "    </tr>\n",
       "    <tr>\n",
       "      <th>3</th>\n",
       "      <td>2019</td>\n",
       "      <td>1</td>\n",
       "      <td>South China Sea</td>\n",
       "      <td>1</td>\n",
       "      <td>3</td>\n",
       "      <td>An armed confrontation over disputed maritime ...</td>\n",
       "    </tr>\n",
       "    <tr>\n",
       "      <th>4</th>\n",
       "      <td>2019</td>\n",
       "      <td>1</td>\n",
       "      <td>terrorist attack</td>\n",
       "      <td>1</td>\n",
       "      <td>3</td>\n",
       "      <td>A mass casualty terrorist attack on the U.S. h...</td>\n",
       "    </tr>\n",
       "  </tbody>\n",
       "</table>\n",
       "</div>"
      ],
      "text/plain": [
       "   Year  Tier     Issue/Country  Impact  Likelihood  \\\n",
       "0  2019     1       cyberattack       1           3   \n",
       "1  2019     1       North Korea       1           3   \n",
       "2  2019     1              Iran       1           3   \n",
       "3  2019     1   South China Sea       1           3   \n",
       "4  2019     1  terrorist attack       1           3   \n",
       "\n",
       "                                         Description  \n",
       "0  A highly disruptive cyberattack on U.S. critic...  \n",
       "1  Renewed tensions on the Korean Peninsula follo...  \n",
       "2  An armed confrontation between Iran and the Un...  \n",
       "3  An armed confrontation over disputed maritime ...  \n",
       "4  A mass casualty terrorist attack on the U.S. h...  "
      ]
     },
     "execution_count": 43,
     "metadata": {},
     "output_type": "execute_result"
    }
   ],
   "source": [
    "df.head()"
   ]
  },
  {
   "cell_type": "code",
   "execution_count": 51,
   "metadata": {},
   "outputs": [],
   "source": [
    "years = list(range(2011, 2020))\n",
    "\n",
    "annual_dict = {}\n",
    "\n",
    "for obs in df.iterrows():\n",
    "    for year in years:\n",
    "        year_list = []\n",
    "        if df[\"Year\"][obs] == year:\n",
    "            year_list.append(df[\"Description\"][obs])\n",
    "        annual_dict[year] = year_list"
   ]
  },
  {
   "cell_type": "code",
   "execution_count": 55,
   "metadata": {},
   "outputs": [
    {
     "data": {
      "text/html": [
       "<div>\n",
       "<style scoped>\n",
       "    .dataframe tbody tr th:only-of-type {\n",
       "        vertical-align: middle;\n",
       "    }\n",
       "\n",
       "    .dataframe tbody tr th {\n",
       "        vertical-align: top;\n",
       "    }\n",
       "\n",
       "    .dataframe thead th {\n",
       "        text-align: right;\n",
       "    }\n",
       "</style>\n",
       "<table border=\"1\" class=\"dataframe\">\n",
       "  <thead>\n",
       "    <tr style=\"text-align: right;\">\n",
       "      <th></th>\n",
       "      <th>Tier</th>\n",
       "      <th>Impact</th>\n",
       "      <th>Likelihood</th>\n",
       "    </tr>\n",
       "    <tr>\n",
       "      <th>Year</th>\n",
       "      <th></th>\n",
       "      <th></th>\n",
       "      <th></th>\n",
       "    </tr>\n",
       "  </thead>\n",
       "  <tbody>\n",
       "    <tr>\n",
       "      <th>2011</th>\n",
       "      <td>55</td>\n",
       "      <td>0</td>\n",
       "      <td>0</td>\n",
       "    </tr>\n",
       "    <tr>\n",
       "      <th>2012</th>\n",
       "      <td>60</td>\n",
       "      <td>0</td>\n",
       "      <td>0</td>\n",
       "    </tr>\n",
       "    <tr>\n",
       "      <th>2013</th>\n",
       "      <td>60</td>\n",
       "      <td>67</td>\n",
       "      <td>79</td>\n",
       "    </tr>\n",
       "    <tr>\n",
       "      <th>2014</th>\n",
       "      <td>60</td>\n",
       "      <td>65</td>\n",
       "      <td>71</td>\n",
       "    </tr>\n",
       "    <tr>\n",
       "      <th>2015</th>\n",
       "      <td>60</td>\n",
       "      <td>64</td>\n",
       "      <td>74</td>\n",
       "    </tr>\n",
       "    <tr>\n",
       "      <th>2016</th>\n",
       "      <td>58</td>\n",
       "      <td>65</td>\n",
       "      <td>70</td>\n",
       "    </tr>\n",
       "    <tr>\n",
       "      <th>2017</th>\n",
       "      <td>63</td>\n",
       "      <td>67</td>\n",
       "      <td>78</td>\n",
       "    </tr>\n",
       "    <tr>\n",
       "      <th>2018</th>\n",
       "      <td>61</td>\n",
       "      <td>63</td>\n",
       "      <td>77</td>\n",
       "    </tr>\n",
       "    <tr>\n",
       "      <th>2019</th>\n",
       "      <td>63</td>\n",
       "      <td>66</td>\n",
       "      <td>77</td>\n",
       "    </tr>\n",
       "  </tbody>\n",
       "</table>\n",
       "</div>"
      ],
      "text/plain": [
       "      Tier  Impact  Likelihood\n",
       "Year                          \n",
       "2011    55       0           0\n",
       "2012    60       0           0\n",
       "2013    60      67          79\n",
       "2014    60      65          71\n",
       "2015    60      64          74\n",
       "2016    58      65          70\n",
       "2017    63      67          78\n",
       "2018    61      63          77\n",
       "2019    63      66          77"
      ]
     },
     "execution_count": 55,
     "metadata": {},
     "output_type": "execute_result"
    }
   ],
   "source": [
    "df.groupby(df[\"Year\"]).sum()"
   ]
  },
  {
   "cell_type": "code",
   "execution_count": null,
   "metadata": {},
   "outputs": [],
   "source": []
  }
 ],
 "metadata": {
  "kernelspec": {
   "display_name": "Python 3",
   "language": "python",
   "name": "python3"
  },
  "language_info": {
   "codemirror_mode": {
    "name": "ipython",
    "version": 3
   },
   "file_extension": ".py",
   "mimetype": "text/x-python",
   "name": "python",
   "nbconvert_exporter": "python",
   "pygments_lexer": "ipython3",
   "version": "3.7.3"
  }
 },
 "nbformat": 4,
 "nbformat_minor": 2
}
